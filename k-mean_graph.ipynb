{
 "cells": [
  {
   "cell_type": "code",
   "execution_count": 1,
   "id": "58dbba82-0ef3-40e5-abf8-a80e68a3044d",
   "metadata": {},
   "outputs": [],
   "source": [
    "import numpy as np\n",
    "import matplotlib.pyplot as plt\n",
    "from sklearn.datasets import make_blobs\n",
    "from ipywidgets import interact"
   ]
  },
  {
   "cell_type": "code",
   "execution_count": 2,
   "id": "3cc17bab-b438-4d88-ad88-909b98da5e20",
   "metadata": {},
   "outputs": [],
   "source": [
    "# 生成模拟数据集\n",
    "X, _ = make_blobs(n_samples=300, centers=4, cluster_std=0.60, random_state=0)"
   ]
  },
  {
   "cell_type": "code",
   "execution_count": 3,
   "id": "79e5e9f0-d2cb-4c6e-a569-4f70355ce714",
   "metadata": {},
   "outputs": [],
   "source": [
    "# 模拟K-means算法的迭代过程\n",
    "def simulate_kmeans(X, n_clusters=4, max_iters=10):\n",
    "    # 随机初始化中心点\n",
    "    rng = np.random.RandomState(2)\n",
    "    i = rng.permutation(X.shape[0])[:n_clusters]\n",
    "    centers = X[i]\n",
    "    \n",
    "    iteration_paths = [centers.copy()]\n",
    "    \n",
    "    for _ in range(max_iters):\n",
    "        # 赋值步骤\n",
    "        labels = np.argmin(((X - centers[:, np.newaxis])**2).sum(axis=2), axis=0)\n",
    "        \n",
    "        # 更新步骤\n",
    "        new_centers = np.array([X[labels == j].mean(0) for j in range(n_clusters)])\n",
    "        \n",
    "        # 如果中心点没有变化，则停止\n",
    "        if np.all(centers == new_centers):\n",
    "            break\n",
    "        \n",
    "        centers = new_centers\n",
    "        iteration_paths.append(centers.copy())\n",
    "        \n",
    "    return iteration_paths"
   ]
  },
  {
   "cell_type": "code",
   "execution_count": 4,
   "id": "ea7fa441-021a-42c0-82b7-82fad5e323d6",
   "metadata": {},
   "outputs": [],
   "source": [
    "# 使用交互式控件展示不同迭代的中心点位置\n",
    "def plot_steps(iteration):\n",
    "    paths = simulate_kmeans(X, max_iters=iteration)\n",
    "    plt.figure(figsize=(8, 6))\n",
    "    plt.scatter(X[:, 0], X[:, 1], alpha=0.5)\n",
    "    colors = ['r', 'g', 'b', 'y']\n",
    "    for i, center in enumerate(paths[-1]):\n",
    "        plt.scatter(*center, s=100, c=colors[i])\n",
    "        # 绘制路径\n",
    "        for path in paths:\n",
    "            plt.scatter(*path[i], marker='x', c=colors[i])\n",
    "    plt.title(f'K-means Iteration: {iteration}')\n",
    "    plt.xlabel('Feature 1')\n",
    "    plt.ylabel('Feature 2')"
   ]
  },
  {
   "cell_type": "code",
   "execution_count": 6,
   "id": "ceaf388a-e997-4145-a350-044b3b35b6d8",
   "metadata": {},
   "outputs": [
    {
     "data": {
      "application/vnd.jupyter.widget-view+json": {
       "model_id": "ee7de8c00ebe4dab9266882ea095352f",
       "version_major": 2,
       "version_minor": 0
      },
      "text/plain": [
       "interactive(children=(IntSlider(value=5, description='iteration', max=10, min=1), Output()), _dom_classes=('wi…"
      ]
     },
     "metadata": {},
     "output_type": "display_data"
    }
   ],
   "source": [
    "# 创建交互式控件\n",
    "_ = interact(plot_steps, iteration=(1, 10))"
   ]
  },
  {
   "cell_type": "code",
   "execution_count": null,
   "id": "93326947-e24c-448a-8105-14749ea366e4",
   "metadata": {},
   "outputs": [],
   "source": []
  }
 ],
 "metadata": {
  "kernelspec": {
   "display_name": "Python 3 (ipykernel)",
   "language": "python",
   "name": "python3"
  },
  "language_info": {
   "codemirror_mode": {
    "name": "ipython",
    "version": 3
   },
   "file_extension": ".py",
   "mimetype": "text/x-python",
   "name": "python",
   "nbconvert_exporter": "python",
   "pygments_lexer": "ipython3",
   "version": "3.11.5"
  }
 },
 "nbformat": 4,
 "nbformat_minor": 5
}
