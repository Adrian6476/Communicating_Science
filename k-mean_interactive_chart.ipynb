{
 "cells": [
  {
   "cell_type": "code",
   "execution_count": 1,
   "id": "58dbba82-0ef3-40e5-abf8-a80e68a3044d",
   "metadata": {},
   "outputs": [],
   "source": [
    "import numpy as np\n",
    "import matplotlib.pyplot as plt\n",
    "from sklearn.datasets import make_blobs\n",
    "from ipywidgets import interact"
   ]
  },
  {
   "cell_type": "code",
   "execution_count": 2,
   "id": "3cc17bab-b438-4d88-ad88-909b98da5e20",
   "metadata": {},
   "outputs": [],
   "source": [
    "##initialise a data-set\n",
    "X, _ = make_blobs(n_samples = 300, centers = 4, cluster_std = 0.60, random_state = 0)"
   ]
  },
  {
   "cell_type": "code",
   "execution_count": 3,
   "id": "79e5e9f0-d2cb-4c6e-a569-4f70355ce714",
   "metadata": {},
   "outputs": [],
   "source": [
    "#simulate the process of iteration of k-means algorithm\n",
    "def simulate_kmeans(X, n_clusters = 4, max_iters = 10):\n",
    "    #randomly initialise centre points\n",
    "    rng = np.random.RandomState(2)\n",
    "    i = rng.permutation(X.shape[0])[:n_clusters]\n",
    "    centers = X[i]\n",
    "    \n",
    "    iteration_paths = [centers.copy()]\n",
    "    \n",
    "    for _ in range(max_iters):\n",
    "        labels = np.argmin(((X - centers[:, np.newaxis])**2).sum(axis = 2), axis = 0)\n",
    "        \n",
    "        new_centers = np.array([X[labels == j].mean(0) for j in range(n_clusters)]) #update\n",
    "        \n",
    "        if np.all(centers == new_centers): #there are no any changes\n",
    "            break\n",
    "        \n",
    "        centers = new_centers\n",
    "        iteration_paths.append(centers.copy())\n",
    "        \n",
    "    return iteration_paths"
   ]
  },
  {
   "cell_type": "code",
   "execution_count": 4,
   "id": "ea7fa441-021a-42c0-82b7-82fad5e323d6",
   "metadata": {},
   "outputs": [],
   "source": [
    "def plot_steps(iteration):\n",
    "    paths = simulate_kmeans(X, max_iters=iteration)\n",
    "    plt.figure(figsize=(8, 6))\n",
    "    plt.scatter(X[:, 0], X[:, 1], alpha=0.5)\n",
    "    colors = ['r', 'g', 'b', 'y']\n",
    "    for i, center in enumerate(paths[-1]):\n",
    "        plt.scatter(*center, s=100, c=colors[i])\n",
    "        #plot path\n",
    "        for path in paths:\n",
    "            plt.scatter(*path[i], marker='x', c=colors[i])\n",
    "    plt.title(f'K-means Iteration: {iteration}')\n",
    "    plt.xlabel('Feature 1')\n",
    "    plt.ylabel('Feature 2')"
   ]
  },
  {
   "cell_type": "code",
   "execution_count": 5,
   "id": "ceaf388a-e997-4145-a350-044b3b35b6d8",
   "metadata": {},
   "outputs": [
    {
     "data": {
      "application/vnd.jupyter.widget-view+json": {
       "model_id": "a8c83f84dbd849ebbef3621fa90fc2c4",
       "version_major": 2,
       "version_minor": 0
      },
      "text/plain": [
       "interactive(children=(IntSlider(value=5, description='iteration', max=10, min=1), Output()), _dom_classes=('wi…"
      ]
     },
     "metadata": {},
     "output_type": "display_data"
    }
   ],
   "source": [
    "_ = interact(plot_steps, iteration=(1, 10))"
   ]
  }
 ],
 "metadata": {
  "kernelspec": {
   "display_name": "Python 3 (ipykernel)",
   "language": "python",
   "name": "python3"
  },
  "language_info": {
   "codemirror_mode": {
    "name": "ipython",
    "version": 3
   },
   "file_extension": ".py",
   "mimetype": "text/x-python",
   "name": "python",
   "nbconvert_exporter": "python",
   "pygments_lexer": "ipython3",
   "version": "3.11.5"
  }
 },
 "nbformat": 4,
 "nbformat_minor": 5
}
