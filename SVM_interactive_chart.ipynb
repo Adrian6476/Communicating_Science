{
 "cells": [
  {
   "cell_type": "code",
   "execution_count": 1,
   "id": "abb84961-a433-4220-8295-ca4712741f06",
   "metadata": {},
   "outputs": [],
   "source": [
    "import numpy as np\n",
    "import matplotlib.pyplot as plt\n",
    "from sklearn import svm\n",
    "from sklearn.datasets import make_moons\n",
    "from ipywidgets import interact, fixed"
   ]
  },
  {
   "cell_type": "code",
   "execution_count": 2,
   "id": "9979d661-c5f8-413a-a2f4-53ce5d648cc3",
   "metadata": {},
   "outputs": [],
   "source": [
    "#initialise a 2d data-set\n",
    "X, y = make_moons(n_samples = 100, noise = 0.15, random_state = 42)"
   ]
  },
  {
   "cell_type": "code",
   "execution_count": 3,
   "id": "e1b643a4-b099-4fe8-8355-cb54e3db18e6",
   "metadata": {},
   "outputs": [],
   "source": [
    "def plot_svm_classifier(C = 1.0, kernel = 'rbf', gamma = 'scale'):\n",
    "    #create and train the model\n",
    "    model = svm.SVC(kernel = kernel, C = C, gamma = gamma)\n",
    "    model.fit(X, y)\n",
    "    \n",
    "    #plot\n",
    "    plt.scatter(X[:, 0], X[:, 1], c = y, cmap = 'viridis', edgecolors = 'k')\n",
    "    ax = plt.gca() #grid\n",
    "    xlim = ax.get_xlim()\n",
    "    ylim = ax.get_ylim()\n",
    "    \n",
    "    xx, yy = np.meshgrid(np.linspace(*xlim, num = 50), np.linspace(*ylim, num = 50))\n",
    "    Z = model.predict(np.c_[xx.ravel(), yy.ravel()]).reshape(xx.shape)\n",
    "    \n",
    "    #decision boundaries and support vectors\n",
    "    plt.contourf(xx, yy, Z, alpha = 0.5, levels = [-1, 0, 1], linestyles = ['--', '-', '--'], colors = 'k')\n",
    "    plt.scatter(model.support_vectors_[:, 0], model.support_vectors_[:, 1], s = 100, linewidth = 1, facecolors = 'none', edgecolors = 'k')\n",
    "    plt.title(f'SVM with C={C}, kernel={kernel}, gamma={gamma}')\n",
    "    plt.xlabel('Feature 1')\n",
    "    plt.ylabel('Feature 2')\n",
    "    plt.show()"
   ]
  },
  {
   "cell_type": "code",
   "execution_count": 4,
   "id": "fdc28c65-d2ac-43b5-b322-32d0b8af6e25",
   "metadata": {},
   "outputs": [
    {
     "data": {
      "application/vnd.jupyter.widget-view+json": {
       "model_id": "1f3bdcdf7c044322a5df54f74a31c408",
       "version_major": 2,
       "version_minor": 0
      },
      "text/plain": [
       "interactive(children=(FloatSlider(value=1.0, description='C', min=0.01, step=0.01), Dropdown(description='kern…"
      ]
     },
     "metadata": {},
     "output_type": "display_data"
    }
   ],
   "source": [
    "_ = interact(plot_svm_classifier, C = (0.01, 100.0, 0.01), kernel = ['linear', 'rbf'], gamma = ['scale', 'auto'])"
   ]
  }
 ],
 "metadata": {
  "kernelspec": {
   "display_name": "Python 3 (ipykernel)",
   "language": "python",
   "name": "python3"
  },
  "language_info": {
   "codemirror_mode": {
    "name": "ipython",
    "version": 3
   },
   "file_extension": ".py",
   "mimetype": "text/x-python",
   "name": "python",
   "nbconvert_exporter": "python",
   "pygments_lexer": "ipython3",
   "version": "3.11.5"
  }
 },
 "nbformat": 4,
 "nbformat_minor": 5
}
